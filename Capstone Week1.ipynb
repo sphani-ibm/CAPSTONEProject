{
    "cells": [
        {
            "cell_type": "markdown",
            "metadata": {},
            "source": "## CAPSTONE Project Course  - Data Analysis - Week 1"
        },
        {
            "cell_type": "markdown",
            "metadata": {
                "collapsed": true
            },
            "source": "This notebook will be mainly used for Capstone project"
        },
        {
            "cell_type": "code",
            "execution_count": 70,
            "metadata": {},
            "outputs": [],
            "source": "import pandas as pd\nimport numpy as np"
        },
        {
            "cell_type": "code",
            "execution_count": 71,
            "metadata": {},
            "outputs": [
                {
                    "name": "stdout",
                    "output_type": "stream",
                    "text": "Hello Capstone Project Course!\n"
                }
            ],
            "source": "print(\"Hello Capstone Project Course!\")"
        },
        {
            "cell_type": "code",
            "execution_count": 72,
            "metadata": {},
            "outputs": [
                {
                    "name": "stderr",
                    "output_type": "stream",
                    "text": "/opt/conda/envs/Python36/lib/python3.6/site-packages/IPython/core/interactiveshell.py:3020: DtypeWarning: Columns (33) have mixed types. Specify dtype option on import or set low_memory=False.\n  interactivity=interactivity, compiler=compiler, result=result)\n"
                }
            ],
            "source": "path='https://s3.us.cloud-object-storage.appdomain.cloud/cf-courses-data/CognitiveClass/DP0701EN/version-2/Data-Collisions.csv'\ndf = pd.read_csv(path)"
        },
        {
            "cell_type": "code",
            "execution_count": 73,
            "metadata": {},
            "outputs": [
                {
                    "data": {
                        "text/plain": "(194673, 3)"
                    },
                    "execution_count": 73,
                    "metadata": {},
                    "output_type": "execute_result"
                }
            ],
            "source": "df_coll = df[['WEATHER','ROADCOND','SEVERITYCODE']]\ndf_coll.shape"
        },
        {
            "cell_type": "code",
            "execution_count": 74,
            "metadata": {},
            "outputs": [
                {
                    "name": "stdout",
                    "output_type": "stream",
                    "text": "Total number of records with null values : (4963, 3)\nAfter deleting the null records (189543, 3)\n"
                },
                {
                    "name": "stderr",
                    "output_type": "stream",
                    "text": "/opt/conda/envs/Python36/lib/python3.6/site-packages/ipykernel/__main__.py:5: SettingWithCopyWarning: \nA value is trying to be set on a copy of a slice from a DataFrame\n\nSee the caveats in the documentation: http://pandas.pydata.org/pandas-docs/stable/indexing.html#indexing-view-versus-copy\n"
                }
            ],
            "source": "# Check how many records have either WEATHER or ROADCOND values as null\nprint(\"Total number of records with null values :\",df_coll[(df_coll['WEATHER'].isnull()&df_coll['ROADCOND'].isnull())].shape)\n\n# Drop those null records \ndf_coll.dropna(subset=['WEATHER','ROADCOND'],axis = 0, how='any',inplace=True)\nprint(\"After deleting the null records\",df_coll.shape)"
        },
        {
            "cell_type": "code",
            "execution_count": 75,
            "metadata": {},
            "outputs": [
                {
                    "data": {
                        "text/html": "<div>\n<style scoped>\n    .dataframe tbody tr th:only-of-type {\n        vertical-align: middle;\n    }\n\n    .dataframe tbody tr th {\n        vertical-align: top;\n    }\n\n    .dataframe thead th {\n        text-align: right;\n    }\n</style>\n<table border=\"1\" class=\"dataframe\">\n  <thead>\n    <tr style=\"text-align: right;\">\n      <th></th>\n      <th>SEV1</th>\n      <th>SEV2</th>\n    </tr>\n    <tr>\n      <th>WEATHER</th>\n      <th></th>\n      <th></th>\n    </tr>\n  </thead>\n  <tbody>\n    <tr>\n      <th>Blowing Sand/Dirt</th>\n      <td>72.73%</td>\n      <td>27.27%</td>\n    </tr>\n    <tr>\n      <th>Clear</th>\n      <td>67.75%</td>\n      <td>32.25%</td>\n    </tr>\n    <tr>\n      <th>Fog/Smog/Smoke</th>\n      <td>67.14%</td>\n      <td>32.86%</td>\n    </tr>\n    <tr>\n      <th>Other</th>\n      <td>86.02%</td>\n      <td>13.98%</td>\n    </tr>\n    <tr>\n      <th>Overcast</th>\n      <td>68.44%</td>\n      <td>31.56%</td>\n    </tr>\n    <tr>\n      <th>Partly Cloudy</th>\n      <td>40.0%</td>\n      <td>60.0%</td>\n    </tr>\n    <tr>\n      <th>Raining</th>\n      <td>66.28%</td>\n      <td>33.72%</td>\n    </tr>\n    <tr>\n      <th>Severe Crosswind</th>\n      <td>72.0%</td>\n      <td>28.0%</td>\n    </tr>\n    <tr>\n      <th>Sleet/Hail/Freezing Rain</th>\n      <td>75.22%</td>\n      <td>24.78%</td>\n    </tr>\n    <tr>\n      <th>Snowing</th>\n      <td>81.15%</td>\n      <td>18.85%</td>\n    </tr>\n    <tr>\n      <th>Unknown</th>\n      <td>94.6%</td>\n      <td>5.4%</td>\n    </tr>\n  </tbody>\n</table>\n</div>",
                        "text/plain": "                            SEV1    SEV2\nWEATHER                                 \nBlowing Sand/Dirt         72.73%  27.27%\nClear                     67.75%  32.25%\nFog/Smog/Smoke            67.14%  32.86%\nOther                     86.02%  13.98%\nOvercast                  68.44%  31.56%\nPartly Cloudy              40.0%   60.0%\nRaining                   66.28%  33.72%\nSevere Crosswind           72.0%   28.0%\nSleet/Hail/Freezing Rain  75.22%  24.78%\nSnowing                   81.15%  18.85%\nUnknown                    94.6%    5.4%"
                    },
                    "execution_count": 75,
                    "metadata": {},
                    "output_type": "execute_result"
                }
            ],
            "source": "# Check the influence of type of WEATHER on the SEVERITY of the collision\ndf_weath = pd.concat([df_coll['WEATHER'],pd.get_dummies(df_coll[\"SEVERITYCODE\"])], axis=1)\ndf_weath.rename(columns={1:'SEV1', 2:'SEV2'}, inplace=True)\ndf_weath = df_weath.groupby(['WEATHER'],as_index=True).sum()\n\n# Visualize the data in percentages for a better view\ndf_weath[['SEV1','SEV2']] = df_weath[['SEV1','SEV2']].div(df_weath[['SEV1','SEV2']].sum(axis=1), axis=0).multiply(100).round(decimals=2).astype(str) + '%'\ndf_weath"
        },
        {
            "cell_type": "markdown",
            "metadata": {},
            "source": "From the above view, weather conditions can be grouped into 4 bins based on the ratio of high severity collissions  \n- SEV2 >35% can be classifiend as \"RISKYWEATHER\"  \n- SEV2 >30% and <35% can be classifiend as \"BADWEATHER\"  \n- SEV2 >20% abd <30% can be classifiend as \"CAUTIONWEATHER\"  \n- SEV2 <20% can be classifiend as \"GOODWEATHER\"  "
        },
        {
            "cell_type": "code",
            "execution_count": 76,
            "metadata": {},
            "outputs": [
                {
                    "data": {
                        "text/html": "<div>\n<style scoped>\n    .dataframe tbody tr th:only-of-type {\n        vertical-align: middle;\n    }\n\n    .dataframe tbody tr th {\n        vertical-align: top;\n    }\n\n    .dataframe thead th {\n        text-align: right;\n    }\n</style>\n<table border=\"1\" class=\"dataframe\">\n  <thead>\n    <tr style=\"text-align: right;\">\n      <th></th>\n      <th>SEV1</th>\n      <th>SEV2</th>\n    </tr>\n    <tr>\n      <th>ROADCOND</th>\n      <th></th>\n      <th></th>\n    </tr>\n  </thead>\n  <tbody>\n    <tr>\n      <th>Dry</th>\n      <td>67.83%</td>\n      <td>32.17%</td>\n    </tr>\n    <tr>\n      <th>Ice</th>\n      <td>77.36%</td>\n      <td>22.64%</td>\n    </tr>\n    <tr>\n      <th>Oil</th>\n      <td>62.5%</td>\n      <td>37.5%</td>\n    </tr>\n    <tr>\n      <th>Other</th>\n      <td>67.42%</td>\n      <td>32.58%</td>\n    </tr>\n    <tr>\n      <th>Sand/Mud/Dirt</th>\n      <td>68.92%</td>\n      <td>31.08%</td>\n    </tr>\n    <tr>\n      <th>Snow/Slush</th>\n      <td>83.43%</td>\n      <td>16.57%</td>\n    </tr>\n    <tr>\n      <th>Standing Water</th>\n      <td>73.91%</td>\n      <td>26.09%</td>\n    </tr>\n    <tr>\n      <th>Unknown</th>\n      <td>95.03%</td>\n      <td>4.97%</td>\n    </tr>\n    <tr>\n      <th>Wet</th>\n      <td>66.81%</td>\n      <td>33.19%</td>\n    </tr>\n  </tbody>\n</table>\n</div>",
                        "text/plain": "                  SEV1    SEV2\nROADCOND                      \nDry             67.83%  32.17%\nIce             77.36%  22.64%\nOil              62.5%   37.5%\nOther           67.42%  32.58%\nSand/Mud/Dirt   68.92%  31.08%\nSnow/Slush      83.43%  16.57%\nStanding Water  73.91%  26.09%\nUnknown         95.03%   4.97%\nWet             66.81%  33.19%"
                    },
                    "execution_count": 76,
                    "metadata": {},
                    "output_type": "execute_result"
                }
            ],
            "source": "# Check the influence of type of ROADCOND on the SEVERITY of the collision\ndf_road = pd.concat([df_coll['ROADCOND'],pd.get_dummies(df_coll[\"SEVERITYCODE\"])], axis=1)\ndf_road.rename(columns={1:'SEV1', 2:'SEV2'}, inplace=True)\ndf_road = df_road.groupby(['ROADCOND'],as_index=True).sum()\n\n# Look at the data in percentages for a better view\ndf_road[['SEV1','SEV2']] = df_road[['SEV1','SEV2']].div(df_road[['SEV1','SEV2']].sum(axis=1), axis=0).multiply(100).round(decimals=2).astype(str) + '%'\ndf_road"
        },
        {
            "cell_type": "markdown",
            "metadata": {},
            "source": "From the above view, ROAD conditions can be grouped into 4 bins based on the ratio of high severity collissions  \n- SEV2 >35% can be classifiend as \"RISKYROAD\"  \n- SEV2 >20% and <35% can be classifiend as \"BADROAD\"  \n- SEV2 >10% abd <20% can be classifiend as \"CAUTIONROAD\"  \n- SEV2 <20% can be classifiend as \"GOODROAD\" "
        },
        {
            "cell_type": "code",
            "execution_count": 77,
            "metadata": {},
            "outputs": [
                {
                    "data": {
                        "text/html": "<div>\n<style scoped>\n    .dataframe tbody tr th:only-of-type {\n        vertical-align: middle;\n    }\n\n    .dataframe tbody tr th {\n        vertical-align: top;\n    }\n\n    .dataframe thead th {\n        text-align: right;\n    }\n</style>\n<table border=\"1\" class=\"dataframe\">\n  <thead>\n    <tr style=\"text-align: right;\">\n      <th></th>\n      <th>SEVERITYCODE</th>\n      <th>RISKYWEATHER</th>\n      <th>BADWEATHER</th>\n      <th>CAUTIONWEATHER</th>\n      <th>GOODWEATHER</th>\n      <th>RISKYROAD</th>\n      <th>BADROAD</th>\n      <th>CAUTIONROAD</th>\n      <th>GOODROAD</th>\n    </tr>\n  </thead>\n  <tbody>\n    <tr>\n      <th>0</th>\n      <td>2</td>\n      <td>0</td>\n      <td>1</td>\n      <td>0</td>\n      <td>0</td>\n      <td>0</td>\n      <td>1</td>\n      <td>0</td>\n      <td>0</td>\n    </tr>\n    <tr>\n      <th>1</th>\n      <td>1</td>\n      <td>0</td>\n      <td>1</td>\n      <td>0</td>\n      <td>0</td>\n      <td>0</td>\n      <td>1</td>\n      <td>0</td>\n      <td>0</td>\n    </tr>\n    <tr>\n      <th>2</th>\n      <td>1</td>\n      <td>0</td>\n      <td>1</td>\n      <td>0</td>\n      <td>0</td>\n      <td>0</td>\n      <td>1</td>\n      <td>0</td>\n      <td>0</td>\n    </tr>\n    <tr>\n      <th>3</th>\n      <td>1</td>\n      <td>0</td>\n      <td>1</td>\n      <td>0</td>\n      <td>0</td>\n      <td>0</td>\n      <td>1</td>\n      <td>0</td>\n      <td>0</td>\n    </tr>\n    <tr>\n      <th>4</th>\n      <td>2</td>\n      <td>0</td>\n      <td>1</td>\n      <td>0</td>\n      <td>0</td>\n      <td>0</td>\n      <td>1</td>\n      <td>0</td>\n      <td>0</td>\n    </tr>\n  </tbody>\n</table>\n</div>",
                        "text/plain": "   SEVERITYCODE  RISKYWEATHER  BADWEATHER  CAUTIONWEATHER  GOODWEATHER  \\\n0             2             0           1               0            0   \n1             1             0           1               0            0   \n2             1             0           1               0            0   \n3             1             0           1               0            0   \n4             2             0           1               0            0   \n\n   RISKYROAD  BADROAD  CAUTIONROAD  GOODROAD  \n0          0        1            0         0  \n1          0        1            0         0  \n2          0        1            0         0  \n3          0        1            0         0  \n4          0        1            0         0  "
                    },
                    "execution_count": 77,
                    "metadata": {},
                    "output_type": "execute_result"
                }
            ],
            "source": "# Prepare the Data\nFeatures = df_coll[['SEVERITYCODE']].copy()\n\n# Convert WEATHER conditions to columns\nW_Features =  pd.get_dummies(df_coll['WEATHER'])\n\n# Map WEATHER conditions to Features bins\nFeatures['RISKYWEATHER']=W_Features['Partly Cloudy']\nFeatures['BADWEATHER']=W_Features['Clear']+W_Features['Fog/Smog/Smoke']+W_Features['Overcast']+W_Features['Raining']\nFeatures['CAUTIONWEATHER']=W_Features['Blowing Sand/Dirt']+W_Features['Sleet/Hail/Freezing Rain']+W_Features['Severe Crosswind']\nFeatures['GOODWEATHER']=W_Features['Snowing']+W_Features['Unknown']+W_Features['Other']\n\n# Convert ROAD conditions to columns\nR_Features =  pd.get_dummies(df_coll['ROADCOND'])\n\n# Map ROADCOND conditions to Features bins\nFeatures['RISKYROAD']=R_Features['Oil']\nFeatures['BADROAD']=R_Features['Dry']+R_Features['Sand/Mud/Dirt']+R_Features['Wet']+R_Features['Other']\nFeatures['CAUTIONROAD']=R_Features['Standing Water']+R_Features['Ice']\nFeatures['GOODROAD']=R_Features['Snow/Slush']+R_Features['Unknown']\n\nFeatures.head()"
        }
    ],
    "metadata": {
        "kernelspec": {
            "display_name": "Python 3.6",
            "language": "python",
            "name": "python3"
        },
        "language_info": {
            "codemirror_mode": {
                "name": "ipython",
                "version": 3
            },
            "file_extension": ".py",
            "mimetype": "text/x-python",
            "name": "python",
            "nbconvert_exporter": "python",
            "pygments_lexer": "ipython3",
            "version": "3.6.9"
        }
    },
    "nbformat": 4,
    "nbformat_minor": 1
}