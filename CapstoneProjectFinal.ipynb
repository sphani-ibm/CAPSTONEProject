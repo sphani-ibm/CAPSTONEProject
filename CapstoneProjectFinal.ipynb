{
    "cells": [
        {
            "cell_type": "markdown",
            "metadata": {
                "collapsed": true
            },
            "source": "<h1 align=center><font size = 5> CAPSTONE Project</font></h1>"
        },
        {
            "cell_type": "markdown",
            "metadata": {},
            "source": "### Introduction"
        },
        {
            "cell_type": "markdown",
            "metadata": {},
            "source": "In this notebook we will try to solve one of the prediction problems by applying machine learning techniques."
        },
        {
            "cell_type": "markdown",
            "metadata": {},
            "source": "### Business Problem"
        },
        {
            "cell_type": "markdown",
            "metadata": {},
            "source": "The business problem is to predict the severity of an accident so that the user can look for options such as drive carefully or change travel plans to avoid risks and inconvenieces during travel."
        },
        {
            "cell_type": "markdown",
            "metadata": {},
            "source": "### About Dataset"
        },
        {
            "cell_type": "markdown",
            "metadata": {},
            "source": "- This labelled data set contains various details about the collision such as location, weather condition, road condition, lighting condition etc..  \n- There are total 37 data elements provided corresponding to each collission.\n- Each collision is tagged a severity code, 1 or 2. The severity code 1 signifies Property Damage only Collission and 2 identifies the Injury collision. \n- The goal here is to come up with a machine learning model that can predict the severity code for the future collisions by taking key inputs such as Weather and Road condition."
        },
        {
            "cell_type": "markdown",
            "metadata": {},
            "source": "## Approach"
        },
        {
            "cell_type": "markdown",
            "metadata": {},
            "source": "- As a first step, we will try to understand the definition of each data element/attribute given in the data set and identify the ones which are relavent to the business domain and can contribute to the problem analysis.\n- Clean up the data by dropping null values and also apply techniques such as wrangling, feature scaling etc.\n- Refine the data by analysing relationships between various data elements and identify the dependencies at a high level to group realted attributes into common bins.\n- Identify suitable Classification algorithm than can fit the training set well.\n- Record the predictions made by the model for the test data set.\n- Evaluate the model predictions by applying techniques such as Jaccard similarity score or f1 score etc..\n- Once the model is confident in predicting the test samples then deploy the model to predict future samples."
        },
        {
            "cell_type": "code",
            "execution_count": null,
            "metadata": {},
            "outputs": [],
            "source": ""
        }
    ],
    "metadata": {
        "kernelspec": {
            "display_name": "Python 3.6",
            "language": "python",
            "name": "python3"
        },
        "language_info": {
            "codemirror_mode": {
                "name": "ipython",
                "version": 3
            },
            "file_extension": ".py",
            "mimetype": "text/x-python",
            "name": "python",
            "nbconvert_exporter": "python",
            "pygments_lexer": "ipython3",
            "version": "3.6.9"
        }
    },
    "nbformat": 4,
    "nbformat_minor": 1
}